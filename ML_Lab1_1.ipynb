{
  "nbformat": 4,
  "nbformat_minor": 0,
  "metadata": {
    "colab": {
      "provenance": [],
      "mount_file_id": "1x05YYHsshH-z9ryXKKqbYrFaVRrflNDb",
      "authorship_tag": "ABX9TyMsu4mzozrEZu6l2KyuExnm",
      "include_colab_link": true
    },
    "kernelspec": {
      "name": "python3",
      "display_name": "Python 3"
    },
    "language_info": {
      "name": "python"
    }
  },
  "cells": [
    {
      "cell_type": "markdown",
      "metadata": {
        "id": "view-in-github",
        "colab_type": "text"
      },
      "source": [
        "<a href=\"https://colab.research.google.com/github/Saif-Al-Sayam/M.L.Lab1/blob/main/ML_Lab1_1.ipynb\" target=\"_parent\"><img src=\"https://colab.research.google.com/assets/colab-badge.svg\" alt=\"Open In Colab\"/></a>"
      ]
    },
    {
      "cell_type": "code",
      "execution_count": 4,
      "metadata": {
        "colab": {
          "base_uri": "https://localhost:8080/"
        },
        "id": "Cza5J9NZ1rSY",
        "outputId": "3cdac3c9-d50a-4a4f-adee-d3ef20245d7e"
      },
      "outputs": [
        {
          "output_type": "stream",
          "name": "stdout",
          "text": [
            "Hellow world!\n",
            "Wow!\n",
            "Saif Bepari\n"
          ]
        }
      ],
      "source": [
        "print(\"Hellow world!\")\n",
        "\n",
        "msg = \"Wow!\"\n",
        "print(msg)\n",
        "\n",
        "first_name = 'Saif'\n",
        "last_name = 'Bepari'\n",
        "full_name = first_name + ' ' + last_name\n",
        "print(full_name)"
      ]
    },
    {
      "cell_type": "code",
      "source": [
        "from google.colab import drive\n",
        "drive.mount('/content/drive')"
      ],
      "metadata": {
        "id": "jQ3WA8--5xOA"
      },
      "execution_count": null,
      "outputs": []
    }
  ]
}