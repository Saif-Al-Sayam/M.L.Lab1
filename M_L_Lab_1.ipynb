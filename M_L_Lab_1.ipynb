{
  "nbformat": 4,
  "nbformat_minor": 0,
  "metadata": {
    "colab": {
      "provenance": [],
      "mount_file_id": "1aiX-liZn2WTKWZrlZ8MIm2Tqyk9oHp33",
      "authorship_tag": "ABX9TyOZobN5NkpHfu7D1/ET4yCC",
      "include_colab_link": true
    },
    "kernelspec": {
      "name": "python3",
      "display_name": "Python 3"
    },
    "language_info": {
      "name": "python"
    }
  },
  "cells": [
    {
      "cell_type": "markdown",
      "metadata": {
        "id": "view-in-github",
        "colab_type": "text"
      },
      "source": [
        "<a href=\"https://colab.research.google.com/github/Saif-Al-Sayam/M.L.Lab1/blob/main/M_L_Lab_1.ipynb\" target=\"_parent\"><img src=\"https://colab.research.google.com/assets/colab-badge.svg\" alt=\"Open In Colab\"/></a>"
      ]
    },
    {
      "cell_type": "code",
      "execution_count": 6,
      "metadata": {
        "id": "2v-M3d92se5M",
        "colab": {
          "base_uri": "https://localhost:8080/"
        },
        "outputId": "1cb2cbdd-3112-452a-9f4d-14e9fec749ce"
      },
      "outputs": [
        {
          "output_type": "stream",
          "name": "stdout",
          "text": [
            "<class 'str'>\n",
            "<class 'float'>\n",
            "<class 'int'>\n",
            "Enter your age: 7\n",
            "Age is:  7\n"
          ]
        }
      ],
      "source": [
        "x = str(5)\n",
        "y = int(5)\n",
        "z = float(5)\n",
        "\n",
        "print(type(x))\n",
        "print(type(z))\n",
        "print(type(y))\n",
        "\n",
        "name = input(\"Enter name: \")\n",
        "print(\"name is: \" + name)\n",
        "age = input(\"Enter your age: \")\n",
        "age = int(age)\n",
        "print(\"Age is: \", age)"
      ]
    },
    {
      "cell_type": "markdown",
      "source": [
        "# New Section"
      ],
      "metadata": {
        "id": "a0c942DZ0dkX"
      }
    }
  ]
}